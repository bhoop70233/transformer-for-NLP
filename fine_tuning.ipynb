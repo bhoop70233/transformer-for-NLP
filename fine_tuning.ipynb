{
  "nbformat": 4,
  "nbformat_minor": 0,
  "metadata": {
    "colab": {
      "provenance": [],
      "gpuType": "T4"
    },
    "kernelspec": {
      "name": "python3",
      "display_name": "Python 3"
    },
    "language_info": {
      "name": "python"
    },
    "accelerator": "GPU"
  },
  "cells": [
    {
      "cell_type": "code",
      "execution_count": null,
      "metadata": {
        "id": "E0bG4Lnw_I3F"
      },
      "outputs": [],
      "source": [
        "from transformers import AutoModelForSequenceClassification\n",
        "import torch\n",
        "\n",
        "# Define model_ckpt with the name of a pretrained model\n",
        "model_ckpt = \"bert-base-uncased\"  # Example: You can replace this with your desired model\n",
        "\n",
        "num_labels=6\n",
        "\n",
        "# Detect if a GPU is available and assign it to device. Otherwise use CPU\n",
        "device = torch.device(\"cuda\" if torch.cuda.is_available() else \"cpu\")\n",
        "\n",
        "model=(AutoModelForSequenceClassification.from_pretrained(model_ckpt,num_labels=num_labels).to(device))"
      ]
    },
    {
      "cell_type": "code",
      "source": [
        "from sklearn.metrics import accuracy_score,f1_score\n",
        "def compute_metrics(pred):\n",
        "  labels=pred.label_ids\n",
        "  preds=pred.predictions.argmax(-1)\n",
        "  f1=f1_score(labels,preds,average=\"weighted\")\n",
        "  acc=accuracy_score(labels,preds)\n",
        "  return {\"accuracy\":acc,\"f1\":f1}"
      ],
      "metadata": {
        "id": "tQvWHfPs_4Hm"
      },
      "execution_count": null,
      "outputs": []
    },
    {
      "cell_type": "code",
      "source": [
        "from huggingface_hub import notebook_login\n",
        "notebook_login()"
      ],
      "metadata": {
        "id": "RA37g5qeBKS5"
      },
      "execution_count": null,
      "outputs": []
    },
    {
      "cell_type": "code",
      "source": [
        "from transformers import TrainingArguments,Trainer"
      ],
      "metadata": {
        "id": "qB7BiPsNBTqk"
      },
      "execution_count": null,
      "outputs": []
    },
    {
      "cell_type": "code",
      "source": [
        "batch_size = 64\n",
        "# Ensure emotions_encoded is defined and contains the \"train\" key\n",
        "# Example:\n",
        "# emotions_encoded = {\"train\": your_training_data, \"test\": your_test_data}\n",
        "logging_steps = len(emotions_encoded[\"train\"]) // batch_size\n",
        "model_name = f\"{model_ckpt}-finetuned-emotion\"\n",
        "training_args = TrainingArguments(output_dir=model_name,\n",
        " num_train_epochs=2,\n",
        " learning_rate=2e-5,\n",
        " per_device_train_batch_size=batch_size,\n",
        " per_device_eval_batch_size=batch_size,\n",
        " weight_decay=0.01,\n",
        " evaluation_strategy=\"epoch\",\n",
        " disable_tqdm=False,\n",
        " logging_steps=logging_steps,\n",
        " push_to_hub=True,\n",
        " log_level=\"error\")"
      ],
      "metadata": {
        "id": "B3G4I7W-CisB"
      },
      "execution_count": null,
      "outputs": []
    },
    {
      "cell_type": "code",
      "source": [
        "from transformers import Trainer\n",
        "trainer = Trainer(model=model, args=training_args,\n",
        " compute_metrics=compute_metrics,\n",
        " train_dataset=emotions_encoded[\"train\"],\n",
        " eval_dataset=emotions_encoded[\"validation\"],\n",
        " tokenizer=tokenizer)\n",
        "trainer.train();\n"
      ],
      "metadata": {
        "id": "FEoDh770Cz9i"
      },
      "execution_count": null,
      "outputs": []
    },
    {
      "cell_type": "code",
      "source": [
        "preds_output.metrics\n"
      ],
      "metadata": {
        "id": "UqNECkKfDIJP"
      },
      "execution_count": null,
      "outputs": []
    },
    {
      "cell_type": "code",
      "source": [
        "y_preds = np.argmax(preds_output.predictions, axis=1)\n"
      ],
      "metadata": {
        "id": "CqVJ8_fODOi4"
      },
      "execution_count": null,
      "outputs": []
    },
    {
      "cell_type": "code",
      "source": [
        "plot_confusion_matrix(y_preds, y_valid, labels)"
      ],
      "metadata": {
        "id": "q1UAJk1LDQyQ"
      },
      "execution_count": null,
      "outputs": []
    },
    {
      "cell_type": "code",
      "source": [],
      "metadata": {
        "id": "HvYqrRBlDUWq"
      },
      "execution_count": null,
      "outputs": []
    }
  ]
}